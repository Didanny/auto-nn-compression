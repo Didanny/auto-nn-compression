{
  "nbformat": 4,
  "nbformat_minor": 0,
  "metadata": {
    "colab": {
      "provenance": [],
      "machine_shape": "hm",
      "gpuType": "T4"
    },
    "kernelspec": {
      "name": "python3",
      "display_name": "Python 3"
    },
    "language_info": {
      "name": "python"
    },
    "accelerator": "GPU"
  },
  "cells": [
    {
      "cell_type": "markdown",
      "source": [
        "### Install dependencies\n"
      ],
      "metadata": {
        "id": "uwCXBRDJUR5-"
      }
    },
    {
      "cell_type": "code",
      "source": [
        "!pip install onnx\n",
        "!pip install onnxruntime\n",
        "\n",
        "import torch.onnx\n",
        "import onnx\n",
        "import onnxruntime"
      ],
      "metadata": {
        "id": "FEYQU3LrUVpS"
      },
      "execution_count": null,
      "outputs": []
    },
    {
      "cell_type": "markdown",
      "source": [
        "### Load 'onnx' file"
      ],
      "metadata": {
        "id": "u9kheGi14-1j"
      }
    },
    {
      "cell_type": "code",
      "source": [
        "# load the onnx format file\n",
        "onnx_model = onnx.load('/content/drive/MyDrive/UCI/output.onnx')  # from model_compression.ipynb"
      ],
      "metadata": {
        "id": "zz_5BrLbq5f_"
      },
      "execution_count": null,
      "outputs": []
    },
    {
      "cell_type": "code",
      "source": [
        "# test for 'onnx' format file\n",
        "# onnx_model.graph.node[0].input\n",
        "# onnx_model.graph.node[0].output"
      ],
      "metadata": {
        "colab": {
          "base_uri": "https://localhost:8080/"
        },
        "id": "mr7PJVdN6OYr",
        "outputId": "bcd1f117-fe85-49f9-ad46-7e838fb11675"
      },
      "execution_count": null,
      "outputs": [
        {
          "output_type": "execute_result",
          "data": {
            "text/plain": [
              "['/features/features.0/Conv_output_0']"
            ]
          },
          "metadata": {},
          "execution_count": 3
        }
      ]
    },
    {
      "cell_type": "markdown",
      "source": [
        "### Graph"
      ],
      "metadata": {
        "id": "kfAEtt4us0KX"
      }
    },
    {
      "cell_type": "code",
      "source": [
        "# Node class definition\n",
        "class Node:\n",
        "    def __init__(self, name, node_type, inputs, outputs):\n",
        "        self.name = name  # str\n",
        "        self.node_type = node_type  # str\n",
        "        self.inputs = inputs  # List[str]\n",
        "        self.outputs = outputs  # List[str]\n",
        "        self.parent = []  # parent node names\n",
        "        self.child_nodes = []  # child node names\n",
        "\n",
        "    def __repr__(self):\n",
        "        return f\"node_type={self.node_type}, parent={', '.join(self.parent)}, child_nodes={', '.join(self.child_nodes)}\"\n"
      ],
      "metadata": {
        "id": "KZmDRNQVs1Lc"
      },
      "execution_count": null,
      "outputs": []
    },
    {
      "cell_type": "code",
      "source": [
        "node_dict = {}\n",
        "\n",
        "# Create all the nodes from onnx file\n",
        "for node in onnx_model.graph.node:\n",
        "    node_name = node.name\n",
        "    node_type = node.op_type\n",
        "    node_inputs = list(node.input)\n",
        "    node_outputs = list(node.output)\n",
        "\n",
        "    node_dict[node_name] = Node(node_name, node_type, node_inputs, node_outputs)  # create Node instance\n",
        "\n",
        "# Find dependencies each other\n",
        "for node in onnx_model.graph.node:\n",
        "    current_node = node_dict[node.name]\n",
        "    # Check one's output with other's input\n",
        "    for output_name in node.output:\n",
        "        for another_node in onnx_model.graph.node:\n",
        "            if output_name in another_node.input:\n",
        "                # If matched\n",
        "                if another_node.name in node_dict:\n",
        "                    # append to the list\n",
        "                    current_node.child_nodes.append(another_node.name)  # for child nodes\n",
        "                    node_dict[another_node.name].parent.append(current_node.name)  # for parent nodes\n",
        "\n",
        "node_dict  # key : node_name / value : Node instance"
      ],
      "metadata": {
        "colab": {
          "base_uri": "https://localhost:8080/"
        },
        "id": "BvEfRSOfAmgO",
        "outputId": "8fd1af35-f454-47fc-d72e-3a9602b1ece9"
      },
      "execution_count": null,
      "outputs": [
        {
          "output_type": "execute_result",
          "data": {
            "text/plain": [
              "{'/features/features.0/Conv': node_type=Conv, parent=, child_nodes=/features/features.1/Relu,\n",
              " '/features/features.1/Relu': node_type=Relu, parent=/features/features.0/Conv, child_nodes=/features/features.2/Conv,\n",
              " '/features/features.2/Conv': node_type=Conv, parent=/features/features.1/Relu, child_nodes=/features/features.3/Relu,\n",
              " '/features/features.3/Relu': node_type=Relu, parent=/features/features.2/Conv, child_nodes=/features/features.4/MaxPool,\n",
              " '/features/features.4/MaxPool': node_type=MaxPool, parent=/features/features.3/Relu, child_nodes=/features/features.5/Conv,\n",
              " '/features/features.5/Conv': node_type=Conv, parent=/features/features.4/MaxPool, child_nodes=/features/features.6/Relu,\n",
              " '/features/features.6/Relu': node_type=Relu, parent=/features/features.5/Conv, child_nodes=/features/features.7/Conv,\n",
              " '/features/features.7/Conv': node_type=Conv, parent=/features/features.6/Relu, child_nodes=/features/features.8/Relu,\n",
              " '/features/features.8/Relu': node_type=Relu, parent=/features/features.7/Conv, child_nodes=/features/features.9/MaxPool,\n",
              " '/features/features.9/MaxPool': node_type=MaxPool, parent=/features/features.8/Relu, child_nodes=/features/features.10/Conv,\n",
              " '/features/features.10/Conv': node_type=Conv, parent=/features/features.9/MaxPool, child_nodes=/features/features.11/Relu,\n",
              " '/features/features.11/Relu': node_type=Relu, parent=/features/features.10/Conv, child_nodes=/features/features.12/Conv,\n",
              " '/features/features.12/Conv': node_type=Conv, parent=/features/features.11/Relu, child_nodes=/features/features.13/Relu,\n",
              " '/features/features.13/Relu': node_type=Relu, parent=/features/features.12/Conv, child_nodes=/features/features.14/Conv,\n",
              " '/features/features.14/Conv': node_type=Conv, parent=/features/features.13/Relu, child_nodes=/features/features.15/Relu,\n",
              " '/features/features.15/Relu': node_type=Relu, parent=/features/features.14/Conv, child_nodes=/features/features.16/MaxPool,\n",
              " '/features/features.16/MaxPool': node_type=MaxPool, parent=/features/features.15/Relu, child_nodes=/features/features.17/Conv,\n",
              " '/features/features.17/Conv': node_type=Conv, parent=/features/features.16/MaxPool, child_nodes=/features/features.18/Relu,\n",
              " '/features/features.18/Relu': node_type=Relu, parent=/features/features.17/Conv, child_nodes=/features/features.19/Conv,\n",
              " '/features/features.19/Conv': node_type=Conv, parent=/features/features.18/Relu, child_nodes=/features/features.20/Relu,\n",
              " '/features/features.20/Relu': node_type=Relu, parent=/features/features.19/Conv, child_nodes=/features/features.21/Conv,\n",
              " '/features/features.21/Conv': node_type=Conv, parent=/features/features.20/Relu, child_nodes=/features/features.22/Relu,\n",
              " '/features/features.22/Relu': node_type=Relu, parent=/features/features.21/Conv, child_nodes=/features/features.23/MaxPool,\n",
              " '/features/features.23/MaxPool': node_type=MaxPool, parent=/features/features.22/Relu, child_nodes=/features/features.24/Conv,\n",
              " '/features/features.24/Conv': node_type=Conv, parent=/features/features.23/MaxPool, child_nodes=/features/features.25/Relu,\n",
              " '/features/features.25/Relu': node_type=Relu, parent=/features/features.24/Conv, child_nodes=/features/features.26/Conv,\n",
              " '/features/features.26/Conv': node_type=Conv, parent=/features/features.25/Relu, child_nodes=/features/features.27/Relu,\n",
              " '/features/features.27/Relu': node_type=Relu, parent=/features/features.26/Conv, child_nodes=/features/features.28/Conv,\n",
              " '/features/features.28/Conv': node_type=Conv, parent=/features/features.27/Relu, child_nodes=/features/features.29/Relu,\n",
              " '/features/features.29/Relu': node_type=Relu, parent=/features/features.28/Conv, child_nodes=/features/features.30/MaxPool,\n",
              " '/features/features.30/MaxPool': node_type=MaxPool, parent=/features/features.29/Relu, child_nodes=/avgpool/adaptive_avg_pool2d,\n",
              " 'Constant_31': node_type=Constant, parent=, child_nodes=/avgpool/adaptive_avg_pool2d,\n",
              " '/avgpool/adaptive_avg_pool2d': node_type=adaptive_avg_pool2d, parent=/features/features.30/MaxPool, Constant_31, child_nodes=/Flatten,\n",
              " '/Flatten': node_type=Flatten, parent=/avgpool/adaptive_avg_pool2d, child_nodes=/classifier/classifier.0/Gemm,\n",
              " '/classifier/classifier.0/Gemm': node_type=Gemm, parent=/Flatten, child_nodes=/classifier/classifier.1/Relu,\n",
              " '/classifier/classifier.1/Relu': node_type=Relu, parent=/classifier/classifier.0/Gemm, child_nodes=/classifier/classifier.3/Gemm,\n",
              " '/classifier/classifier.3/Gemm': node_type=Gemm, parent=/classifier/classifier.1/Relu, child_nodes=/classifier/classifier.4/Relu,\n",
              " '/classifier/classifier.4/Relu': node_type=Relu, parent=/classifier/classifier.3/Gemm, child_nodes=/classifier/classifier.6/Gemm,\n",
              " '/classifier/classifier.6/Gemm': node_type=Gemm, parent=/classifier/classifier.4/Relu, child_nodes=}"
            ]
          },
          "metadata": {},
          "execution_count": 54
        }
      ]
    },
    {
      "cell_type": "code",
      "source": [
        "att = ['name', 'node_type', 'inputs', 'outputs', 'parent', 'child_nodes']  # define in the Node class\n",
        "\n",
        "# test for Conv0\n",
        "for node in att:\n",
        "    print(f\"{node}: {getattr(node_dict[onnx_model.graph.node[0].name], node)}\")"
      ],
      "metadata": {
        "colab": {
          "base_uri": "https://localhost:8080/"
        },
        "id": "cbmVDYn9AhMI",
        "outputId": "1651f55a-9878-4d63-843e-d37b13cad2a6"
      },
      "execution_count": null,
      "outputs": [
        {
          "output_type": "stream",
          "name": "stdout",
          "text": [
            "name: /features/features.0/Conv\n",
            "node_type: Conv\n",
            "inputs: ['input.1', 'features.0.weight', 'features.0.bias']\n",
            "outputs: ['/features/features.0/Conv_output_0']\n",
            "parent: []\n",
            "child_nodes: ['/features/features.1/Relu']\n"
          ]
        }
      ]
    },
    {
      "cell_type": "code",
      "source": [
        "# Node class definition\n",
        "# class Node:\n",
        "#     def __init__(self, name, node_type):\n",
        "#         self.name = name  # str\n",
        "#         self.node_type = node_type  # str\n",
        "#         self.parent = [] # parent node, list of nodes if there are multiple inputs\n",
        "#         self.child_nodes = []\n",
        "\n",
        "#     def __repr__(self):\n",
        "#         return f\"node_type={self.node_type}, parent={', '.join([node.name for node in self.parent])}, child_nodes={', '.join([node.name for node in self.child_nodes])}\"\n",
        "\n",
        "# node_dict = {}  # key : node_name\n",
        "\n",
        "# # First, create all the nodes\n",
        "# for node in onnx_model.graph.node:\n",
        "#     node_name = node.output[0]  # use the first output name as the node name\n",
        "#     node_type = node.op_type  # str\n",
        "#     node_dict[node_name] = Node(node_name, node_type)\n",
        "\n",
        "# # Next, link the nodes together\n",
        "# for node in onnx_model.graph.node:\n",
        "#     current_node = node_dict[node.output[0]]  # use the first output name as the node name\n",
        "#     for input_name in node.input:\n",
        "#         if input_name in node_dict:\n",
        "#             parent_node = node_dict[input_name]\n",
        "#             parent_node.child_nodes.append(current_node)\n",
        "#             current_node.parent.append(parent_node)\n",
        "\n",
        "# # print node_dict\n",
        "# node_dict\n"
      ],
      "metadata": {
        "id": "cXfNyDYs9GLy"
      },
      "execution_count": null,
      "outputs": []
    }
  ]
}